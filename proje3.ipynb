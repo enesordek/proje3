{
  "nbformat": 4,
  "nbformat_minor": 0,
  "metadata": {
    "colab": {
      "provenance": [],
      "authorship_tag": "ABX9TyOKeTJSNhBmscL6gRTuC3O7",
      "include_colab_link": true
    },
    "kernelspec": {
      "name": "python3",
      "display_name": "Python 3"
    },
    "language_info": {
      "name": "python"
    }
  },
  "cells": [
    {
      "cell_type": "markdown",
      "metadata": {
        "id": "view-in-github",
        "colab_type": "text"
      },
      "source": [
        "<a href=\"https://colab.research.google.com/github/enesordek/proje3/blob/main/proje3.ipynb\" target=\"_parent\"><img src=\"https://colab.research.google.com/assets/colab-badge.svg\" alt=\"Open In Colab\"/></a>"
      ]
    },
    {
      "cell_type": "code",
      "execution_count": 3,
      "metadata": {
        "colab": {
          "base_uri": "https://localhost:8080/"
        },
        "id": "BsdQrdoJFgC1",
        "outputId": "1d72f1a8-076f-4c8f-9466-960baecffe65"
      },
      "outputs": [
        {
          "output_type": "stream",
          "name": "stdout",
          "text": [
            "Requirement already satisfied: beautifulsoup4 in /usr/local/lib/python3.10/dist-packages (4.12.3)\n",
            "Requirement already satisfied: soupsieve>1.2 in /usr/local/lib/python3.10/dist-packages (from beautifulsoup4) (2.6)\n",
            "Requirement already satisfied: pandas in /usr/local/lib/python3.10/dist-packages (2.2.2)\n",
            "Requirement already satisfied: numpy>=1.22.4 in /usr/local/lib/python3.10/dist-packages (from pandas) (1.26.4)\n",
            "Requirement already satisfied: python-dateutil>=2.8.2 in /usr/local/lib/python3.10/dist-packages (from pandas) (2.8.2)\n",
            "Requirement already satisfied: pytz>=2020.1 in /usr/local/lib/python3.10/dist-packages (from pandas) (2024.2)\n",
            "Requirement already satisfied: tzdata>=2022.7 in /usr/local/lib/python3.10/dist-packages (from pandas) (2024.2)\n",
            "Requirement already satisfied: six>=1.5 in /usr/local/lib/python3.10/dist-packages (from python-dateutil>=2.8.2->pandas) (1.16.0)\n",
            "Collecting langdetect\n",
            "  Downloading langdetect-1.0.9.tar.gz (981 kB)\n",
            "\u001b[2K     \u001b[90m━━━━━━━━━━━━━━━━━━━━━━━━━━━━━━━━━━━━━━━━\u001b[0m \u001b[32m981.5/981.5 kB\u001b[0m \u001b[31m14.4 MB/s\u001b[0m eta \u001b[36m0:00:00\u001b[0m\n",
            "\u001b[?25h  Preparing metadata (setup.py) ... \u001b[?25l\u001b[?25hdone\n",
            "Requirement already satisfied: six in /usr/local/lib/python3.10/dist-packages (from langdetect) (1.16.0)\n",
            "Building wheels for collected packages: langdetect\n",
            "  Building wheel for langdetect (setup.py) ... \u001b[?25l\u001b[?25hdone\n",
            "  Created wheel for langdetect: filename=langdetect-1.0.9-py3-none-any.whl size=993222 sha256=a7efce477942dada28a4eb3753d00ac37c42f327de6baa59b1ba8ec9f3614d1b\n",
            "  Stored in directory: /root/.cache/pip/wheels/95/03/7d/59ea870c70ce4e5a370638b5462a7711ab78fba2f655d05106\n",
            "Successfully built langdetect\n",
            "Installing collected packages: langdetect\n",
            "Successfully installed langdetect-1.0.9\n",
            "Tespit Edilen Dil: İspanyolca\n"
          ]
        }
      ],
      "source": [
        "# Gerekli kütüphanelerin kurulumu\n",
        "!pip install beautifulsoup4\n",
        "!pip install pandas\n",
        "!pip install langdetect\n",
        "\n",
        "# Kütüphanelerin import edilmesi\n",
        "from langdetect import detect, DetectorFactory\n",
        "from langdetect.lang_detect_exception import LangDetectException\n",
        "import pandas as pd\n",
        "\n",
        "# Desteklenen diller ve dil kodları\n",
        "desteklenen_diller = ['tr', 'en', 'de', 'fr', 'es']\n",
        "dil_adlari = {\n",
        "    'tr': 'Türkçe',\n",
        "    'en': 'İngilizce',\n",
        "    'de': 'Almanca',\n",
        "    'fr': 'Fransızca',\n",
        "    'es': 'İspanyolca'\n",
        "}\n",
        "\n",
        "# Dil tespit fonksiyonu\n",
        "def dil_tespit(metin):\n",
        "    try:\n",
        "        dil = detect(metin)\n",
        "        if dil in desteklenen_diller:\n",
        "            return dil_adlari[dil]\n",
        "        else:\n",
        "            return \"Bu metin desteklenen dillerden biri değil.\"\n",
        "    except LangDetectException:\n",
        "        return \"Dil tespit edilemedi.\"\n",
        "\n",
        "# Örnek kullanım\n",
        "metin = \"Esta es una oración de prueba.\"\n",
        "print(\"Tespit Edilen Dil:\", dil_tespit(metin))\n"
      ]
    }
  ]
}